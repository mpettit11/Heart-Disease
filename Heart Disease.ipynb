{
 "cells": [
  {
   "cell_type": "code",
   "execution_count": 103,
   "metadata": {
    "scrolled": true
   },
   "outputs": [
    {
     "name": "stderr",
     "output_type": "stream",
     "text": [
      "/Users/MattPettit/anaconda3/lib/python3.7/site-packages/ipykernel_launcher.py:17: DataConversionWarning: Data with input dtype int64, float64 were all converted to float64 by the scale function.\n"
     ]
    },
    {
     "name": "stdout",
     "output_type": "stream",
     "text": [
      "Train on 169 samples, validate on 73 samples\n",
      "Epoch 1/20\n",
      "169/169 [==============================] - 1s 5ms/step - loss: 0.6018 - acc: 0.7160 - val_loss: 0.5111 - val_acc: 0.8082\n",
      "Epoch 2/20\n",
      "169/169 [==============================] - 0s 70us/step - loss: 0.4809 - acc: 0.8402 - val_loss: 0.4363 - val_acc: 0.7945\n",
      "Epoch 3/20\n",
      "169/169 [==============================] - 0s 67us/step - loss: 0.4050 - acc: 0.8462 - val_loss: 0.4033 - val_acc: 0.7945\n",
      "Epoch 4/20\n",
      "169/169 [==============================] - 0s 70us/step - loss: 0.3636 - acc: 0.8698 - val_loss: 0.3839 - val_acc: 0.7945\n",
      "Epoch 5/20\n",
      "169/169 [==============================] - 0s 85us/step - loss: 0.3371 - acc: 0.8698 - val_loss: 0.3778 - val_acc: 0.8219\n",
      "Epoch 6/20\n",
      "169/169 [==============================] - 0s 82us/step - loss: 0.3139 - acc: 0.8639 - val_loss: 0.3627 - val_acc: 0.8630\n",
      "Epoch 7/20\n",
      "169/169 [==============================] - 0s 88us/step - loss: 0.2942 - acc: 0.8698 - val_loss: 0.3596 - val_acc: 0.8630\n",
      "Epoch 8/20\n",
      "169/169 [==============================] - 0s 76us/step - loss: 0.2794 - acc: 0.8698 - val_loss: 0.3602 - val_acc: 0.8767\n",
      "Epoch 9/20\n",
      "169/169 [==============================] - 0s 74us/step - loss: 0.2687 - acc: 0.8698 - val_loss: 0.3563 - val_acc: 0.8630\n",
      "Epoch 10/20\n",
      "169/169 [==============================] - 0s 102us/step - loss: 0.2540 - acc: 0.8817 - val_loss: 0.3644 - val_acc: 0.8630\n",
      "Epoch 11/20\n",
      "169/169 [==============================] - 0s 78us/step - loss: 0.2415 - acc: 0.8876 - val_loss: 0.3731 - val_acc: 0.8767\n"
     ]
    },
    {
     "data": {
      "text/plain": [
       "<keras.callbacks.History at 0x1a30957320>"
      ]
     },
     "execution_count": 103,
     "metadata": {},
     "output_type": "execute_result"
    }
   ],
   "source": [
    "import numpy as np\n",
    "import pandas as pd\n",
    "from keras.utils import to_categorical\n",
    "from keras.layers import Dense\n",
    "from keras.models import Sequential\n",
    "from keras.callbacks import EarlyStopping\n",
    "from sklearn.metrics import accuracy_score\n",
    "from sklearn.metrics import mean_squared_error\n",
    "from sklearn.pipeline import Pipeline\n",
    "from sklearn.preprocessing import scale\n",
    "from sklearn.model_selection import train_test_split\n",
    "\n",
    "Heart_Data = pd.read_csv('/Users/MattPettit/Downloads/heart.csv')\n",
    "Heart_DF = pd.DataFrame(Heart_Data)\n",
    "\n",
    "\n",
    "x = pd.DataFrame(scale(Heart_DF.iloc[:,0:13]))\n",
    "y = to_categorical(Heart_DF.iloc[:,13])\n",
    "n_col = x.shape[1]\n",
    "es_monitor = EarlyStopping(patience=2)\n",
    "x_train, x_test, y_train, y_test = train_test_split(x, y, test_size=.2)\n",
    "\n",
    "heart_model = Sequential()\n",
    "heart_model.add(Dense(100, activation='relu', input_shape=(n_col,)))\n",
    "heart_model.add(Dense(100, activation='relu'))\n",
    "heart_model.add(Dense(2, activation='softmax'))\n",
    "\n",
    "heart_model.compile(optimizer='adam', loss='binary_crossentropy', metrics=['accuracy'])\n",
    "heart_model.fit(x_train, y_train, validation_split=.3, epochs=20, callbacks=[es_monitor])"
   ]
  },
  {
   "cell_type": "code",
   "execution_count": 104,
   "metadata": {
    "scrolled": true
   },
   "outputs": [
    {
     "data": {
      "text/plain": [
       "0.7868852459016393"
      ]
     },
     "execution_count": 104,
     "metadata": {},
     "output_type": "execute_result"
    }
   ],
   "source": [
    "heart_pred = pd.DataFrame(heart_model.predict(x_test)).idxmax(1)\n",
    "y_test = pd.DataFrame(y_test)\n",
    "y_test = y_test.iloc[:,1]\n",
    "score = accuracy_score(y_test, heart_pred)\n",
    "score"
   ]
  },
  {
   "cell_type": "code",
   "execution_count": 110,
   "metadata": {},
   "outputs": [
    {
     "data": {
      "text/plain": [
       "array([[0.98517483, 0.01482516],\n",
       "       [0.87302077, 0.12697925],\n",
       "       [0.99838185, 0.00161811],\n",
       "       [0.9863565 , 0.01364348],\n",
       "       [0.95840615, 0.0415938 ],\n",
       "       [0.15400928, 0.8459907 ],\n",
       "       [0.43408263, 0.5659173 ],\n",
       "       [0.9683004 , 0.03169958],\n",
       "       [0.03046828, 0.9695318 ],\n",
       "       [0.6866645 , 0.31333557],\n",
       "       [0.88112056, 0.11887937],\n",
       "       [0.02588892, 0.9741111 ],\n",
       "       [0.7004722 , 0.29952782],\n",
       "       [0.9982021 , 0.00179793],\n",
       "       [0.12976624, 0.8702338 ],\n",
       "       [0.11403075, 0.8859692 ],\n",
       "       [0.04579326, 0.95420676],\n",
       "       [0.670555  , 0.32944506],\n",
       "       [0.99408084, 0.00591916],\n",
       "       [0.09618417, 0.9038158 ],\n",
       "       [0.38163418, 0.6183659 ],\n",
       "       [0.98746955, 0.01253049],\n",
       "       [0.95109946, 0.04890054],\n",
       "       [0.9969215 , 0.00307848],\n",
       "       [0.9837922 , 0.01620781],\n",
       "       [0.99766916, 0.00233079],\n",
       "       [0.95465124, 0.04534881],\n",
       "       [0.0271332 , 0.9728668 ],\n",
       "       [0.9791812 , 0.02081886],\n",
       "       [0.9808606 , 0.01913939],\n",
       "       [0.04866808, 0.9513319 ],\n",
       "       [0.70929414, 0.2907059 ],\n",
       "       [0.4373413 , 0.56265867],\n",
       "       [0.10513403, 0.894866  ],\n",
       "       [0.38924202, 0.61075795],\n",
       "       [0.99289274, 0.00710723],\n",
       "       [0.09745791, 0.9025421 ],\n",
       "       [0.11488361, 0.88511634],\n",
       "       [0.0139799 , 0.98602   ],\n",
       "       [0.5770636 , 0.4229364 ],\n",
       "       [0.0159587 , 0.98404133],\n",
       "       [0.21636152, 0.7836384 ],\n",
       "       [0.6411965 , 0.35880357],\n",
       "       [0.68519074, 0.31480923],\n",
       "       [0.9973435 , 0.00265654],\n",
       "       [0.2756582 , 0.7243418 ],\n",
       "       [0.01848191, 0.9815181 ],\n",
       "       [0.94340634, 0.0565936 ],\n",
       "       [0.37528628, 0.6247137 ],\n",
       "       [0.9030102 , 0.09698981],\n",
       "       [0.23128416, 0.76871586],\n",
       "       [0.1535503 , 0.84644973],\n",
       "       [0.05837414, 0.9416259 ],\n",
       "       [0.06542364, 0.9345764 ],\n",
       "       [0.9847675 , 0.01523253],\n",
       "       [0.24074611, 0.7592539 ],\n",
       "       [0.8568179 , 0.14318208],\n",
       "       [0.01783104, 0.982169  ],\n",
       "       [0.9270272 , 0.07297277],\n",
       "       [0.10417283, 0.8958272 ],\n",
       "       [0.02282023, 0.9771798 ]], dtype=float32)"
      ]
     },
     "execution_count": 110,
     "metadata": {},
     "output_type": "execute_result"
    }
   ],
   "source": [
    "pred_probability = heart_model.predict_proba(x_test)\n",
    "pred_probability"
   ]
  },
  {
   "cell_type": "code",
   "execution_count": null,
   "metadata": {},
   "outputs": [],
   "source": []
  }
 ],
 "metadata": {
  "kernelspec": {
   "display_name": "Python 3",
   "language": "python",
   "name": "python3"
  },
  "language_info": {
   "codemirror_mode": {
    "name": "ipython",
    "version": 3
   },
   "file_extension": ".py",
   "mimetype": "text/x-python",
   "name": "python",
   "nbconvert_exporter": "python",
   "pygments_lexer": "ipython3",
   "version": "3.7.3"
  }
 },
 "nbformat": 4,
 "nbformat_minor": 2
}
