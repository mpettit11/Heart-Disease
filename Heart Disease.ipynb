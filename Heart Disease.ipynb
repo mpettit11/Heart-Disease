{
 "cells": [
  {
   "cell_type": "code",
   "execution_count": 79,
   "metadata": {
    "scrolled": true
   },
   "outputs": [
    {
     "name": "stderr",
     "output_type": "stream",
     "text": [
      "/Users/MattPettit/anaconda3/lib/python3.7/site-packages/ipykernel_launcher.py:17: DataConversionWarning: Data with input dtype int64, float64 were all converted to float64 by the scale function.\n"
     ]
    },
    {
     "name": "stdout",
     "output_type": "stream",
     "text": [
      "Train on 169 samples, validate on 73 samples\n",
      "Epoch 1/20\n",
      "169/169 [==============================] - 0s 3ms/step - loss: 0.6851 - acc: 0.5799 - val_loss: 0.5527 - val_acc: 0.7945\n",
      "Epoch 2/20\n",
      "169/169 [==============================] - 0s 64us/step - loss: 0.5285 - acc: 0.7870 - val_loss: 0.4466 - val_acc: 0.9178\n",
      "Epoch 3/20\n",
      "169/169 [==============================] - 0s 59us/step - loss: 0.4368 - acc: 0.8343 - val_loss: 0.3973 - val_acc: 0.8904\n",
      "Epoch 4/20\n",
      "169/169 [==============================] - 0s 65us/step - loss: 0.3758 - acc: 0.8639 - val_loss: 0.3801 - val_acc: 0.8767\n",
      "Epoch 5/20\n",
      "169/169 [==============================] - 0s 63us/step - loss: 0.3397 - acc: 0.8757 - val_loss: 0.3695 - val_acc: 0.8767\n",
      "Epoch 6/20\n",
      "169/169 [==============================] - 0s 80us/step - loss: 0.3132 - acc: 0.8817 - val_loss: 0.3660 - val_acc: 0.8767\n",
      "Epoch 7/20\n",
      "169/169 [==============================] - 0s 79us/step - loss: 0.2918 - acc: 0.8935 - val_loss: 0.3801 - val_acc: 0.8630\n",
      "Epoch 8/20\n",
      "169/169 [==============================] - 0s 63us/step - loss: 0.2731 - acc: 0.9112 - val_loss: 0.3867 - val_acc: 0.8356\n"
     ]
    },
    {
     "data": {
      "text/plain": [
       "<keras.callbacks.History at 0x1a2e914278>"
      ]
     },
     "execution_count": 79,
     "metadata": {},
     "output_type": "execute_result"
    }
   ],
   "source": [
    "import numpy as np\n",
    "import pandas as pd\n",
    "from keras.utils import to_categorical\n",
    "from keras.layers import Dense\n",
    "from keras.models import Sequential\n",
    "from keras.callbacks import EarlyStopping\n",
    "from sklearn.metrics import accuracy_score\n",
    "from sklearn.metrics import mean_squared_error\n",
    "from sklearn.pipeline import Pipeline\n",
    "from sklearn.preprocessing import scale\n",
    "from sklearn.model_selection import train_test_split\n",
    "\n",
    "Heart_Data = pd.read_csv('/Users/MattPettit/Downloads/heart.csv')\n",
    "Heart_DF = pd.DataFrame(Heart_Data)\n",
    "\n",
    "\n",
    "x = pd.DataFrame(scale(Heart_DF.iloc[:,0:13]))\n",
    "y = to_categorical(Heart_DF.iloc[:,13])\n",
    "n_col = x.shape[1]\n",
    "es_monitor = EarlyStopping(patience=2)\n",
    "x_train, x_test, y_train, y_test = train_test_split(x, y, test_size=.2)\n",
    "\n",
    "heart_model = Sequential()\n",
    "heart_model.add(Dense(100, activation='relu', input_shape=(n_col,)))\n",
    "heart_model.add(Dense(100, activation='relu'))\n",
    "heart_model.add(Dense(2, activation='softmax'))\n",
    "\n",
    "heart_model.compile(optimizer='adam', loss='binary_crossentropy', metrics=['accuracy'])\n",
    "heart_model.fit(x_train, y_train, validation_split=.3, epochs=20, callbacks=[es_monitor])"
   ]
  },
  {
   "cell_type": "code",
   "execution_count": 81,
   "metadata": {
    "scrolled": true
   },
   "outputs": [
    {
     "data": {
      "text/plain": [
       "0.7868852459016393"
      ]
     },
     "execution_count": 81,
     "metadata": {},
     "output_type": "execute_result"
    }
   ],
   "source": [
    "heart_pred = pd.DataFrame(heart_model.predict(x_test)).idxmax(1)\n",
    "y_test = pd.DataFrame(y_test)\n",
    "y_test = y_test.iloc[:,1]\n",
    "score = accuracy_score(y_test, heart_pred)\n",
    "score"
   ]
  },
  {
   "cell_type": "code",
   "execution_count": null,
   "metadata": {},
   "outputs": [],
   "source": []
  },
  {
   "cell_type": "code",
   "execution_count": null,
   "metadata": {},
   "outputs": [],
   "source": []
  }
 ],
 "metadata": {
  "kernelspec": {
   "display_name": "Python 3",
   "language": "python",
   "name": "python3"
  },
  "language_info": {
   "codemirror_mode": {
    "name": "ipython",
    "version": 3
   },
   "file_extension": ".py",
   "mimetype": "text/x-python",
   "name": "python",
   "nbconvert_exporter": "python",
   "pygments_lexer": "ipython3",
   "version": "3.7.3"
  }
 },
 "nbformat": 4,
 "nbformat_minor": 2
}
